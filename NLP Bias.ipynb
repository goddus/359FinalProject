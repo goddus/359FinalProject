{
 "cells": [
  {
   "cell_type": "markdown",
   "id": "252afc7c",
   "metadata": {},
   "source": [
    "# Setup\n",
    "https://radimrehurek.com/gensim/models/word2vec.html#pretrained-models"
   ]
  },
  {
   "cell_type": "code",
   "execution_count": 1,
   "id": "8fc71487",
   "metadata": {},
   "outputs": [],
   "source": [
    "import gensim\n",
    "from gensim.models.word2vec import Word2Vec\n",
    "import gensim.downloader as api\n",
    "import numpy as np"
   ]
  },
  {
   "cell_type": "code",
   "execution_count": 2,
   "id": "a810f475",
   "metadata": {},
   "outputs": [],
   "source": [
    "model = gensim.downloader.load('word2vec-google-news-300')"
   ]
  },
  {
   "cell_type": "markdown",
   "id": "302185c3",
   "metadata": {},
   "source": [
    "# Introduction to Word2Vec"
   ]
  },
  {
   "cell_type": "code",
   "execution_count": 3,
   "id": "fc8bd999",
   "metadata": {},
   "outputs": [
    {
     "data": {
      "text/plain": [
       "[['fruit,',\n",
       "  'the',\n",
       "  'fleshy',\n",
       "  'or',\n",
       "  'dry',\n",
       "  'ripened',\n",
       "  'ovary',\n",
       "  'of',\n",
       "  'a',\n",
       "  'flowering',\n",
       "  'plant,',\n",
       "  'enclosing',\n",
       "  'the',\n",
       "  'seed',\n",
       "  'or',\n",
       "  'seeds'],\n",
       " ['Thus,',\n",
       "  'apricots,',\n",
       "  'bananas,',\n",
       "  'and',\n",
       "  'grapes,',\n",
       "  'as',\n",
       "  'well',\n",
       "  'as',\n",
       "  'bean',\n",
       "  'pods,',\n",
       "  'corn',\n",
       "  'grains,',\n",
       "  'tomatoes,',\n",
       "  'cucumbers,',\n",
       "  'and',\n",
       "  '(in',\n",
       "  'their',\n",
       "  'shells)',\n",
       "  'acorns',\n",
       "  'and',\n",
       "  'almonds,',\n",
       "  'are',\n",
       "  'all',\n",
       "  'technically',\n",
       "  'fruits'],\n",
       " ['Popularly,',\n",
       "  'however,',\n",
       "  'the',\n",
       "  'term',\n",
       "  'is',\n",
       "  'restricted',\n",
       "  'to',\n",
       "  'the',\n",
       "  'ripened',\n",
       "  'ovaries',\n",
       "  'that',\n",
       "  'are',\n",
       "  'sweet',\n",
       "  'and',\n",
       "  'either',\n",
       "  'succulent',\n",
       "  'or',\n",
       "  'pulpy'],\n",
       " ['For',\n",
       "  'treatment',\n",
       "  'of',\n",
       "  'the',\n",
       "  'cultivation',\n",
       "  'of',\n",
       "  'fruits,',\n",
       "  'see',\n",
       "  'fruit',\n",
       "  'farming'],\n",
       " ['For',\n",
       "  'treatment',\n",
       "  'of',\n",
       "  'the',\n",
       "  'nutrient',\n",
       "  'composition',\n",
       "  'and',\n",
       "  'processing',\n",
       "  'of',\n",
       "  'fruits,',\n",
       "  'see',\n",
       "  'fruit',\n",
       "  'processing'],\n",
       " ['Botanically,',\n",
       "  'a',\n",
       "  'fruit',\n",
       "  'is',\n",
       "  'a',\n",
       "  'mature',\n",
       "  'ovary',\n",
       "  'and',\n",
       "  'its',\n",
       "  'associated',\n",
       "  'parts'],\n",
       " ['It',\n",
       "  'usually',\n",
       "  'contains',\n",
       "  'seeds,',\n",
       "  'which',\n",
       "  'have',\n",
       "  'developed',\n",
       "  'from',\n",
       "  'the',\n",
       "  'enclosed',\n",
       "  'ovule',\n",
       "  'after',\n",
       "  'fertilization,',\n",
       "  'although',\n",
       "  'development',\n",
       "  'without',\n",
       "  'fertilization,',\n",
       "  'called',\n",
       "  'parthenocarpy,',\n",
       "  'is',\n",
       "  'known,',\n",
       "  'for',\n",
       "  'example,',\n",
       "  'in',\n",
       "  'bananas'],\n",
       " ['Fertilization',\n",
       "  'induces',\n",
       "  'various',\n",
       "  'changes',\n",
       "  'in',\n",
       "  'a',\n",
       "  'flower:',\n",
       "  'the',\n",
       "  'anthers',\n",
       "  'and',\n",
       "  'stigma',\n",
       "  'wither,',\n",
       "  'the',\n",
       "  'petals',\n",
       "  'drop',\n",
       "  'off,',\n",
       "  'and',\n",
       "  'the',\n",
       "  'sepals',\n",
       "  'may',\n",
       "  'be',\n",
       "  'shed',\n",
       "  'or',\n",
       "  'undergo',\n",
       "  'modifications;',\n",
       "  'the',\n",
       "  'ovary',\n",
       "  'enlarges,',\n",
       "  'and',\n",
       "  'the',\n",
       "  'ovules',\n",
       "  'develop',\n",
       "  'into',\n",
       "  'seeds,',\n",
       "  'each',\n",
       "  'containing',\n",
       "  'an',\n",
       "  'embryo',\n",
       "  'plant'],\n",
       " ['The',\n",
       "  'principal',\n",
       "  'purpose',\n",
       "  'of',\n",
       "  'the',\n",
       "  'fruit',\n",
       "  'is',\n",
       "  'the',\n",
       "  'protection',\n",
       "  'and',\n",
       "  'dissemination',\n",
       "  'of',\n",
       "  'the',\n",
       "  'seed'],\n",
       " ['(See', 'also', 'seed'],\n",
       " [')',\n",
       "  'Fruits',\n",
       "  'are',\n",
       "  'important',\n",
       "  'sources',\n",
       "  'of',\n",
       "  'dietary',\n",
       "  'fibre,',\n",
       "  'vitamins',\n",
       "  '(especially',\n",
       "  'vitamin',\n",
       "  'C),',\n",
       "  'and',\n",
       "  'antioxidants'],\n",
       " ['Although',\n",
       "  'fresh',\n",
       "  'fruits',\n",
       "  'are',\n",
       "  'subject',\n",
       "  'to',\n",
       "  'spoilage,',\n",
       "  'their',\n",
       "  'shelf',\n",
       "  'life',\n",
       "  'can',\n",
       "  'be',\n",
       "  'extended',\n",
       "  'by',\n",
       "  'refrigeration',\n",
       "  'or',\n",
       "  'by',\n",
       "  'the',\n",
       "  'removal',\n",
       "  'of',\n",
       "  'oxygen',\n",
       "  'from',\n",
       "  'their',\n",
       "  'storage',\n",
       "  'or',\n",
       "  'packaging',\n",
       "  'containers'],\n",
       " ['Fruits',\n",
       "  'can',\n",
       "  'be',\n",
       "  'processed',\n",
       "  'into',\n",
       "  'juices,',\n",
       "  'jams,',\n",
       "  'and',\n",
       "  'jellies',\n",
       "  'and',\n",
       "  'preserved',\n",
       "  'by',\n",
       "  'dehydration,',\n",
       "  'canning,',\n",
       "  'fermentation,',\n",
       "  'and',\n",
       "  'pickling'],\n",
       " ['Waxes,',\n",
       "  'such',\n",
       "  'as',\n",
       "  'those',\n",
       "  'from',\n",
       "  'bayberries',\n",
       "  '(wax',\n",
       "  'myrtles),',\n",
       "  'and',\n",
       "  'vegetable',\n",
       "  'ivory',\n",
       "  'from',\n",
       "  'the',\n",
       "  'hard',\n",
       "  'fruits',\n",
       "  'of',\n",
       "  'a',\n",
       "  'South',\n",
       "  'American',\n",
       "  'palm',\n",
       "  'species',\n",
       "  '(Phytelephas',\n",
       "  'macrocarpa)',\n",
       "  'are',\n",
       "  'important',\n",
       "  'fruit-derived',\n",
       "  'products'],\n",
       " ['Various',\n",
       "  'drugs',\n",
       "  'come',\n",
       "  'from',\n",
       "  'fruits,',\n",
       "  'such',\n",
       "  'as',\n",
       "  'morphine',\n",
       "  'from',\n",
       "  'the',\n",
       "  'fruit',\n",
       "  'of',\n",
       "  'the',\n",
       "  'opium',\n",
       "  'poppy']]"
      ]
     },
     "execution_count": 3,
     "metadata": {},
     "output_type": "execute_result"
    }
   ],
   "source": [
    "paragraph = \"fruit, the fleshy or dry ripened ovary of a flowering plant, enclosing the seed or seeds. Thus, apricots, bananas, and grapes, as well as bean pods, corn grains, tomatoes, cucumbers, and (in their shells) acorns and almonds, are all technically fruits. Popularly, however, the term is restricted to the ripened ovaries that are sweet and either succulent or pulpy. For treatment of the cultivation of fruits, see fruit farming. For treatment of the nutrient composition and processing of fruits, see fruit processing. Botanically, a fruit is a mature ovary and its associated parts. It usually contains seeds, which have developed from the enclosed ovule after fertilization, although development without fertilization, called parthenocarpy, is known, for example, in bananas. Fertilization induces various changes in a flower: the anthers and stigma wither, the petals drop off, and the sepals may be shed or undergo modifications; the ovary enlarges, and the ovules develop into seeds, each containing an embryo plant. The principal purpose of the fruit is the protection and dissemination of the seed. (See also seed.) Fruits are important sources of dietary fibre, vitamins (especially vitamin C), and antioxidants. Although fresh fruits are subject to spoilage, their shelf life can be extended by refrigeration or by the removal of oxygen from their storage or packaging containers. Fruits can be processed into juices, jams, and jellies and preserved by dehydration, canning, fermentation, and pickling. Waxes, such as those from bayberries (wax myrtles), and vegetable ivory from the hard fruits of a South American palm species (Phytelephas macrocarpa) are important fruit-derived products. Various drugs come from fruits, such as morphine from the fruit of the opium poppy.\"\n",
    "sentences = []\n",
    "for sentence in paragraph.split(\".\"):\n",
    "    test = sentence.split(\" \")\n",
    "    str_list = list(filter(None, test))\n",
    "    if str_list:\n",
    "        sentences.append(str_list)\n",
    "\n",
    "sentences"
   ]
  },
  {
   "cell_type": "code",
   "execution_count": 4,
   "id": "0577ded2",
   "metadata": {},
   "outputs": [
    {
     "data": {
      "text/plain": [
       "[('farming', 0.3491923213005066),\n",
       " ('ripened', 0.3042016327381134),\n",
       " ('ovule', 0.24979040026664734),\n",
       " ('cucumbers,', 0.22287946939468384),\n",
       " ('seeds,', 0.17807547748088837),\n",
       " ('by', 0.16559582948684692),\n",
       " ('dehydration,', 0.16434580087661743),\n",
       " ('treatment', 0.16303157806396484),\n",
       " ('mature', 0.15538841485977173),\n",
       " ('grapes,', 0.15352429449558258)]"
      ]
     },
     "execution_count": 4,
     "metadata": {},
     "output_type": "execute_result"
    }
   ],
   "source": [
    "basic_model = Word2Vec(sentences=sentences, vector_size=100, window=5, min_count=1, workers=4)\n",
    "# Show basic word associations\n",
    "basic_model.wv.most_similar(\"fruit\")"
   ]
  },
  {
   "cell_type": "code",
   "execution_count": 5,
   "id": "f5eb63e0",
   "metadata": {},
   "outputs": [
    {
     "data": {
      "text/plain": [
       "[('Paris', 0.7672389149665833),\n",
       " ('French', 0.6049168705940247),\n",
       " ('Parisian', 0.5810437202453613),\n",
       " ('Colombes', 0.5599984526634216),\n",
       " ('Hopital_Europeen_Georges_Pompidou', 0.555890679359436),\n",
       " ('Melun', 0.5512701272964478),\n",
       " ('Dinard', 0.5451847314834595),\n",
       " ('Brussels', 0.5420990586280823),\n",
       " ('Mairie_de', 0.533744752407074),\n",
       " ('Cagnes_sur_Mer', 0.5312464237213135)]"
      ]
     },
     "execution_count": 5,
     "metadata": {},
     "output_type": "execute_result"
    }
   ],
   "source": [
    "model.most_similar(positive=[\"France\",\"Berlin\"],negative=[\"Germany\"])"
   ]
  },
  {
   "cell_type": "code",
   "execution_count": 6,
   "id": "bfab456a",
   "metadata": {},
   "outputs": [
    {
     "data": {
      "text/plain": [
       "[('queen', 0.7118193507194519),\n",
       " ('monarch', 0.6189674735069275),\n",
       " ('princess', 0.5902431011199951),\n",
       " ('crown_prince', 0.5499460697174072),\n",
       " ('prince', 0.5377321243286133),\n",
       " ('kings', 0.5236844420433044),\n",
       " ('Queen_Consort', 0.5235945582389832),\n",
       " ('queens', 0.518113374710083),\n",
       " ('sultan', 0.5098593831062317),\n",
       " ('monarchy', 0.5087411999702454)]"
      ]
     },
     "execution_count": 6,
     "metadata": {},
     "output_type": "execute_result"
    }
   ],
   "source": [
    "model.most_similar(positive=[\"woman\",\"king\"],negative=[\"man\"])"
   ]
  },
  {
   "cell_type": "code",
   "execution_count": 7,
   "id": "92503864",
   "metadata": {},
   "outputs": [
    {
     "data": {
      "text/plain": [
       "[('homemaker', 0.5627118945121765),\n",
       " ('housewife', 0.5105046629905701),\n",
       " ('graphic_designer', 0.505180299282074),\n",
       " ('schoolteacher', 0.497949481010437),\n",
       " ('businesswoman', 0.493489146232605),\n",
       " ('paralegal', 0.49255111813545227),\n",
       " ('registered_nurse', 0.4907974600791931),\n",
       " ('saleswoman', 0.48816272616386414),\n",
       " ('electrical_engineer', 0.4797726571559906),\n",
       " ('mechanical_engineer', 0.4755399227142334)]"
      ]
     },
     "execution_count": 7,
     "metadata": {},
     "output_type": "execute_result"
    }
   ],
   "source": [
    "model.most_similar(positive=[\"woman\",\"computer_programmer\"],negative=[\"man\"])"
   ]
  },
  {
   "cell_type": "code",
   "execution_count": 8,
   "id": "610a63a7",
   "metadata": {},
   "outputs": [
    {
     "data": {
      "text/plain": [
       "[('homemaker', 0.5472404360771179),\n",
       " ('graphic_designer', 0.5406057834625244),\n",
       " ('programmer', 0.5336480140686035),\n",
       " ('schoolteacher', 0.5153871774673462),\n",
       " ('housewife', 0.5088576674461365),\n",
       " ('electrical_engineer', 0.5082751512527466),\n",
       " ('businesswoman', 0.5011307597160339),\n",
       " ('mechanical_engineer', 0.4983106851577759),\n",
       " ('keypunch_operator', 0.48656004667282104),\n",
       " ('saleswoman', 0.4847942590713501)]"
      ]
     },
     "execution_count": 8,
     "metadata": {},
     "output_type": "execute_result"
    }
   ],
   "source": [
    "model.most_similar(positive=[\"girl\",\"computer_programmer\"],negative=[\"boy\"])"
   ]
  },
  {
   "cell_type": "code",
   "execution_count": 9,
   "id": "32ff9d3d",
   "metadata": {},
   "outputs": [
    {
     "data": {
      "text/plain": [
       "[('vice_president', 0.599061131477356),\n",
       " ('director', 0.5975303053855896),\n",
       " ('mananger', 0.5540252327919006),\n",
       " ('manger', 0.5326608419418335),\n",
       " ('Manager', 0.5218765735626221),\n",
       " ('managing_director', 0.5175216794013977),\n",
       " ('coordinator', 0.5150246024131775),\n",
       " ('supervisor', 0.512852132320404),\n",
       " ('vp', 0.5084112882614136),\n",
       " ('mana_ger', 0.5057909488677979)]"
      ]
     },
     "execution_count": 9,
     "metadata": {},
     "output_type": "execute_result"
    }
   ],
   "source": [
    "model.most_similar(positive=[\"black\",\"manager\"],negative=[\"white\"])"
   ]
  },
  {
   "cell_type": "code",
   "execution_count": 10,
   "id": "01a953c9",
   "metadata": {},
   "outputs": [
    {
     "name": "stdout",
     "output_type": "stream",
     "text": [
      "0.083807915\n",
      "0.041078076\n"
     ]
    }
   ],
   "source": [
    "print(model.similarity(\"black\",\"criminal\"))\n",
    "print(model.similarity(\"white\",\"criminal\"))"
   ]
  },
  {
   "cell_type": "code",
   "execution_count": 11,
   "id": "1a1d1d3d",
   "metadata": {},
   "outputs": [
    {
     "name": "stdout",
     "output_type": "stream",
     "text": [
      "0.3733778\n",
      "[('muslims', 0.7917742729187012), ('Muslim', 0.7285441756248474), ('Moslem', 0.7245643138885498), ('islamic', 0.7151464223861694), ('moslem', 0.6917665004730225), ('christian', 0.676012396812439), ('islam', 0.6733973026275635), ('jewish', 0.652587890625), ('Muslims', 0.640570878982544), ('christians', 0.6398838758468628)]\n",
      "0.23209321\n",
      "0.15567985\n"
     ]
    }
   ],
   "source": [
    "print(model.similarity(\"muslim\",\"terrorist\"))\n",
    "print(model.most_similar(\"muslim\"))\n",
    "print(model.similarity(\"christian\",\"terrorist\"))\n",
    "print(model.similarity(\"chinese\",\"uber\"))"
   ]
  },
  {
   "cell_type": "code",
   "execution_count": 12,
   "id": "b483eadb",
   "metadata": {},
   "outputs": [],
   "source": [
    "gender_pairs = [\n",
    "    [\"man\",\"woman\"],\n",
    "    [\"boy\",\"girl\"],\n",
    "    [\"male\",\"female\"],\n",
    "    [\"masculine\",\"feminine\"],\n",
    "    [\"father\",\"mother\"]\n",
    "]\n",
    "\n",
    "male_dom_occupations = [\"computer_programmer\",\"trucker\",\"plumber\"]\n",
    "female_dom_occupations = [\"teacher\",\"secretary\",\"nurse\"]"
   ]
  },
  {
   "cell_type": "code",
   "execution_count": 13,
   "id": "3b7a6b09",
   "metadata": {},
   "outputs": [
    {
     "name": "stdout",
     "output_type": "stream",
     "text": [
      "OCCUPATION:  computer_programmer\n",
      "[('homemaker', 0.5627118945121765), ('housewife', 0.5105046629905701), ('graphic_designer', 0.505180299282074), ('schoolteacher', 0.497949481010437), ('businesswoman', 0.493489146232605)]\n",
      "[('homemaker', 0.5472404360771179), ('graphic_designer', 0.5406057834625244), ('programmer', 0.5336480140686035), ('schoolteacher', 0.5153871774673462), ('housewife', 0.5088576674461365)]\n",
      "[('mechanical_engineer', 0.531915545463562), ('schoolteacher', 0.5259362459182739), ('graphic_designer', 0.5201236009597778), ('programmer', 0.5128348469734192), ('electrical_engineer', 0.49813708662986755)]\n",
      "[('homemaker', 0.5341627597808838), ('graphic_designer', 0.5120885372161865), ('schoolteacher', 0.5013217926025391), ('mechanical_engineer', 0.48311248421669006), ('housewife', 0.4744608998298645)]\n",
      "[('homemaker', 0.555813729763031), ('graphic_designer', 0.5386900901794434), ('housewife', 0.5224640965461731), ('schoolteacher', 0.5075528025627136), ('registered_nurse', 0.5056869983673096)]\n",
      "OCCUPATION:  trucker\n",
      "[('truckers', 0.5476556420326233), ('truck', 0.5148845911026001), ('trucking', 0.5058871507644653), ('Trucker', 0.5019262433052063), ('tow_truck_driver', 0.4921303987503052)]\n",
      "[('truckers', 0.5824876427650452), ('Trucker', 0.5432265400886536), ('trucking', 0.5244474411010742), ('truck', 0.5241880416870117), ('long_haul_trucker', 0.5135863423347473)]\n",
      "[('truckers', 0.5655103325843811), ('trucking', 0.5574020743370056), ('long_haul_trucker', 0.5450018644332886), ('Trucker', 0.5376049876213074), ('truck', 0.5025687217712402)]\n",
      "[('trucking', 0.47781485319137573), ('truck', 0.4709545075893402), ('truckers', 0.46803492307662964), ('Trucker', 0.46307939291000366), ('tanker_truck', 0.46188783645629883)]\n",
      "[('motorist', 0.5388051867485046), ('Trucker', 0.5257201790809631), ('truckers', 0.5252089500427246), ('tow_truck_driver', 0.5111526846885681), ('postal_worker', 0.5090304613113403)]\n",
      "OCCUPATION:  plumber\n",
      "[('hairdresser', 0.56982421875), ('licensed_plumber', 0.5643820762634277), ('plumbers', 0.558669924736023), ('beautician', 0.5554354190826416), ('manicurist', 0.5482335090637207)]\n",
      "[('licensed_plumber', 0.5979751944541931), ('hairdresser', 0.5955723524093628), ('plumbers', 0.5924559831619263), ('beautician', 0.5738995671272278), ('tradesman', 0.5490940809249878)]\n",
      "[('plumbers', 0.6092292070388794), ('licensed_plumber', 0.5758262872695923), ('tradesman', 0.5457967519760132), ('Plumber', 0.5383957028388977), ('Denis_Scheele', 0.5051295757293701)]\n",
      "[('plumbers', 0.5473504066467285), ('licensed_plumber', 0.5299976468086243), ('Plumber', 0.5038707852363586), ('hairdresser', 0.49854692816734314), ('beautician', 0.4887779653072357)]\n",
      "[('licensed_plumber', 0.5665816068649292), ('plumbers', 0.562816321849823), ('hairdresser', 0.5570428967475891), ('beautician', 0.5363110303878784), ('roofer', 0.5238765478134155)]\n"
     ]
    }
   ],
   "source": [
    "for occupation in male_dom_occupations:\n",
    "    print(\"OCCUPATION: \",occupation)\n",
    "    for pair in gender_pairs:\n",
    "#         print(pair[0], \" to \", occupation, \": \",model.similarity(pair[0],occupation))\n",
    "#         print(pair[1], \" to \", occupation, \": \",model.similarity(pair[1],occupation))\n",
    "        print(model.most_similar(positive=[pair[1],occupation],negative=[pair[0]])[:5])"
   ]
  },
  {
   "cell_type": "code",
   "execution_count": 14,
   "id": "dbbf9f69",
   "metadata": {
    "scrolled": true
   },
   "outputs": [
    {
     "name": "stdout",
     "output_type": "stream",
     "text": [
      "OCCUPATION:  teacher\n",
      "[('teachers', 0.5810958743095398), ('PE_teacher', 0.556725800037384), ('headmaster', 0.5553570985794067), ('Teacher', 0.5439296364784241), ('pupil', 0.5400640368461609)]\n",
      "[('teachers', 0.6545760035514832), ('pupil', 0.598250150680542), ('elementary', 0.596847653388977), ('headmaster', 0.5935094952583313), ('school', 0.5858757495880127)]\n",
      "[('teachers', 0.6461228728294373), ('Teacher', 0.6198713779449463), ('guidance_counselor', 0.6190987229347229), ('elementary', 0.614936888217926), ('headmaster', 0.6035487651824951)]\n",
      "[('teachers', 0.6065839529037476), ('Teacher', 0.5751699805259705), ('guidance_counselor', 0.5584845542907715), ('PE_teacher', 0.5518540740013123), ('pupil', 0.5505715608596802)]\n",
      "[('headmaster', 0.6184214353561401), ('phys_ed_teacher', 0.5788652300834656), ('PE_teacher', 0.5780734419822693), ('teachers', 0.5714814066886902), ('Teacher', 0.5488411784172058)]\n",
      "OCCUPATION:  secretary\n",
      "[('Secretary', 0.5865545272827148), ('undersecretary', 0.5803497433662415), ('secreatry', 0.5644860863685608), ('sectary', 0.5540340542793274), ('chairman', 0.5118257403373718)]\n",
      "[('undersecretary', 0.6352561712265015), ('Secretary', 0.6334009766578674), ('secreatry', 0.5870050191879272), ('minister', 0.5643370747566223), ('Secre_tary', 0.5541373491287231)]\n",
      "[('Secretary', 0.6489598155021667), ('undersecretary', 0.6113485097885132), ('secreatry', 0.5437633991241455), ('Secre_tary', 0.5334790945053101), ('secretaries', 0.5325922966003418)]\n",
      "[('undersecretary', 0.5860007405281067), ('Secretary', 0.5793948173522949), ('secretaries', 0.5103142857551575), ('secreatry', 0.5006995797157288), ('minister', 0.4985217750072479)]\n",
      "[('undersecretary', 0.5867711305618286), ('Secretary', 0.5851255059242249), ('secreatry', 0.5779353380203247), ('sectary', 0.5739420652389526), ('chairman', 0.5624000430107117)]\n",
      "OCCUPATION:  nurse\n",
      "[('nurses', 0.5750778317451477), ('medic', 0.5732707977294922), ('registered_nurse', 0.5555102229118347), ('x_ray_technician', 0.5553551912307739), ('Nurse', 0.5527041554450989)]\n",
      "[('registered_nurse', 0.6530424356460571), ('nurses', 0.6494264602661133), ('respiratory_therapist', 0.6262997388839722), ('doctor', 0.6207963824272156), ('x_ray_technician', 0.6167203187942505)]\n",
      "[('registered_nurse', 0.6586745977401733), ('nurses', 0.6083713173866272), ('nurse_practitioner', 0.5907416343688965), ('doctor', 0.5865497589111328), ('respiratory_therapist', 0.5783926248550415)]\n",
      "[('registered_nurse', 0.6028826832771301), ('nurses', 0.5875001549720764), ('respiratory_therapist', 0.572364330291748), ('x_ray_technician', 0.556435763835907), ('medic', 0.5430012345314026)]\n",
      "[('x_ray_technician', 0.6665493249893188), ('doctor', 0.6111894845962524), ('registered_nurse', 0.6029821038246155), ('respiratory_therapist', 0.5884867310523987), ('medic', 0.5867965817451477)]\n"
     ]
    }
   ],
   "source": [
    "for occupation in female_dom_occupations:\n",
    "    print(\"OCCUPATION: \",occupation)\n",
    "    for pair in gender_pairs:\n",
    "        print(model.most_similar(positive=[pair[0],occupation],negative=[pair[1]])[:5])"
   ]
  },
  {
   "cell_type": "code",
   "execution_count": 15,
   "id": "8e78d931",
   "metadata": {},
   "outputs": [],
   "source": [
    "religions = [\"christian\",\"muslim\",\"jewish\",\"hindu\",\"buddhist\"]\n",
    "stereotypes = [\"terrorist\",\"philanthropist\",\"evil\",\"racist\",\"frugal\"]"
   ]
  },
  {
   "cell_type": "code",
   "execution_count": 16,
   "id": "915c6fac",
   "metadata": {},
   "outputs": [
    {
     "name": "stdout",
     "output_type": "stream",
     "text": [
      "STEREOTYPE:  terrorist\n",
      "0.23209321\n",
      "0.3733778\n",
      "0.23063853\n",
      "0.203477\n",
      "0.104290895\n",
      "STEREOTYPE:  philanthropist\n",
      "0.11935555\n",
      "0.102111265\n",
      "0.13718978\n",
      "0.032020073\n",
      "0.1172961\n",
      "STEREOTYPE:  evil\n",
      "0.29157263\n",
      "0.29019472\n",
      "0.25371784\n",
      "0.25275838\n",
      "0.2395346\n",
      "STEREOTYPE:  racist\n",
      "0.37873843\n",
      "0.3851766\n",
      "0.40511343\n",
      "0.28848082\n",
      "0.1873832\n",
      "STEREOTYPE:  frugal\n",
      "0.11521689\n",
      "0.08947105\n",
      "0.09060955\n",
      "0.038437527\n",
      "0.12853253\n"
     ]
    }
   ],
   "source": [
    "for stereotype in stereotypes:\n",
    "    print(\"STEREOTYPE: \", stereotype)\n",
    "    for religion in religions:\n",
    "        print(model.similarity(stereotype,religion))"
   ]
  },
  {
   "cell_type": "code",
   "execution_count": 17,
   "id": "bf7b37af",
   "metadata": {},
   "outputs": [],
   "source": [
    "def cos_similarity(a,b):\n",
    "    return np.dot(a,b) / (np.linalg.norm(a) + np.linalg.norm(b))"
   ]
  },
  {
   "cell_type": "code",
   "execution_count": 18,
   "id": "b7145b60",
   "metadata": {},
   "outputs": [
    {
     "name": "stdout",
     "output_type": "stream",
     "text": [
      "0.10423214\n",
      "0.08569487\n",
      "0.119437315\n",
      "0.055025052\n",
      "0.17521991\n",
      "0.12227048\n",
      "0.16047885\n",
      "0.10850615\n"
     ]
    }
   ],
   "source": [
    "auth = model[\"power\"]\n",
    "\n",
    "white = model[\"white\"]\n",
    "black = model[\"black\"]\n",
    "\n",
    "woman = model[\"woman\"]\n",
    "man = model[\"man\"]\n",
    "\n",
    "print(cos_similarity(auth,white))\n",
    "print(cos_similarity(auth,black))\n",
    "print(cos_similarity(auth,man))\n",
    "print(cos_similarity(auth,woman))\n",
    "print(cos_similarity(auth,white+man))\n",
    "print(cos_similarity(auth,white+woman))\n",
    "print(cos_similarity(auth,black+man))\n",
    "print(cos_similarity(auth,black+woman))"
   ]
  },
  {
   "cell_type": "code",
   "execution_count": 19,
   "id": "c0c20227",
   "metadata": {},
   "outputs": [
    {
     "name": "stdout",
     "output_type": "stream",
     "text": [
      "0.10005455\n",
      "0.043001562\n"
     ]
    }
   ],
   "source": [
    "print(model.similarity(\"power\",\"man\"))\n",
    "print(model.similarity(\"power\",\"woman\"))"
   ]
  },
  {
   "cell_type": "code",
   "execution_count": null,
   "id": "9e0fb1e8",
   "metadata": {},
   "outputs": [],
   "source": []
  }
 ],
 "metadata": {
  "kernelspec": {
   "display_name": "Python 3 (ipykernel)",
   "language": "python",
   "name": "python3"
  },
  "language_info": {
   "codemirror_mode": {
    "name": "ipython",
    "version": 3
   },
   "file_extension": ".py",
   "mimetype": "text/x-python",
   "name": "python",
   "nbconvert_exporter": "python",
   "pygments_lexer": "ipython3",
   "version": "3.7.9"
  }
 },
 "nbformat": 4,
 "nbformat_minor": 5
}
